{
 "cells": [
  {
   "cell_type": "markdown",
   "metadata": {},
   "source": [
    "# Chapter 10: Deep learning in Finance"
   ]
  },
  {
   "cell_type": "code",
   "execution_count": 1,
   "metadata": {},
   "outputs": [],
   "source": [
    "%matplotlib inline\n",
    "%config InlineBackend.figure_format = 'retina'"
   ]
  },
  {
   "cell_type": "code",
   "execution_count": 2,
   "metadata": {},
   "outputs": [],
   "source": [
    "import matplotlib.pyplot as plt\n",
    "import warnings\n",
    "\n",
    "plt.style.use('seaborn')\n",
    "plt.rcParams['figure.figsize'] = [16, 9]\n",
    "plt.rcParams['figure.dpi'] = 300\n",
    "warnings.simplefilter(action='ignore', category=FutureWarning)"
   ]
  },
  {
   "cell_type": "markdown",
   "metadata": {},
   "source": [
    "# Deep learning for tabular data "
   ]
  },
  {
   "cell_type": "code",
   "execution_count": 3,
   "metadata": {},
   "outputs": [],
   "source": [
    "from fastai import *\n",
    "from fastai.tabular import *\n",
    "import torch\n",
    "import pandas as pd"
   ]
  },
  {
   "cell_type": "code",
   "execution_count": 4,
   "metadata": {},
   "outputs": [],
   "source": [
    "from chapter_10_utils import performance_evaluation_report"
   ]
  },
  {
   "cell_type": "code",
   "execution_count": 5,
   "metadata": {},
   "outputs": [],
   "source": [
    "#Load the dataset from CSV file\n",
    "df = pd.read_csv('credit_card_default.csv', index_col=0, na_values='')"
   ]
  },
  {
   "cell_type": "code",
   "execution_count": 6,
   "metadata": {},
   "outputs": [
    {
     "data": {
      "text/plain": [
       "array(['Payment delayed 2 months', 'Payed duly', 'Unknown', 'Payment delayed 1 month', 'Payment delayed 3 months',\n",
       "       'Payment delayed 4 months', 'Payment delayed 8 months', 'Payment delayed 7 months', 'Payment delayed 5 months',\n",
       "       'Payment delayed 6 months'], dtype=object)"
      ]
     },
     "execution_count": 6,
     "metadata": {},
     "output_type": "execute_result"
    }
   ],
   "source": [
    "df.payment_status_sep.unique()"
   ]
  },
  {
   "cell_type": "code",
   "execution_count": 7,
   "metadata": {},
   "outputs": [],
   "source": [
    "#Identify the dependent variabe and numerical/categorical features\n",
    "der_var = 'default_payment_next_month'\n",
    "\n",
    "num_features = list(df.select_dtypes('number').columns)\n",
    "num_features.remove(der_var)\n",
    "cat_features = list(df.select_dtypes('object').columns)\n",
    "\n",
    "preprocessing = [FillMissing, Categorify, Normalize]"
   ]
  },
  {
   "cell_type": "code",
   "execution_count": 8,
   "metadata": {},
   "outputs": [],
   "source": [
    "#Create TabularDataBunch from the DataFrame\n",
    "data = (TabularList.from_df(df,\n",
    "                           cat_names=cat_features, \n",
    "                           cont_names = num_features,\n",
    "                           procs = preprocessing)\n",
    "                   .split_by_rand_pct(valid_pct=0.2, seed=42)\n",
    "                   .label_from_df(cols=der_var)\n",
    "                   .databunch(num_workers=0))"
   ]
  },
  {
   "cell_type": "code",
   "execution_count": 9,
   "metadata": {},
   "outputs": [
    {
     "data": {
      "text/html": [
       "<table border=\"1\" class=\"dataframe\">\n",
       "  <thead>\n",
       "    <tr style=\"text-align: right;\">\n",
       "      <th>sex</th>\n",
       "      <th>education</th>\n",
       "      <th>marriage</th>\n",
       "      <th>payment_status_sep</th>\n",
       "      <th>payment_status_aug</th>\n",
       "      <th>payment_status_jul</th>\n",
       "      <th>payment_status_jun</th>\n",
       "      <th>payment_status_may</th>\n",
       "      <th>payment_status_apr</th>\n",
       "      <th>age_na</th>\n",
       "      <th>limit_bal</th>\n",
       "      <th>age</th>\n",
       "      <th>bill_statement_sep</th>\n",
       "      <th>bill_statement_aug</th>\n",
       "      <th>bill_statement_jul</th>\n",
       "      <th>bill_statement_jun</th>\n",
       "      <th>bill_statement_may</th>\n",
       "      <th>bill_statement_apr</th>\n",
       "      <th>previous_payment_sep</th>\n",
       "      <th>previous_payment_aug</th>\n",
       "      <th>previous_payment_jul</th>\n",
       "      <th>previous_payment_jun</th>\n",
       "      <th>previous_payment_may</th>\n",
       "      <th>previous_payment_apr</th>\n",
       "      <th>target</th>\n",
       "    </tr>\n",
       "  </thead>\n",
       "  <tbody>\n",
       "    <tr>\n",
       "      <td>Female</td>\n",
       "      <td>University</td>\n",
       "      <td>Single</td>\n",
       "      <td>Unknown</td>\n",
       "      <td>Unknown</td>\n",
       "      <td>Unknown</td>\n",
       "      <td>Unknown</td>\n",
       "      <td>Unknown</td>\n",
       "      <td>Unknown</td>\n",
       "      <td>False</td>\n",
       "      <td>0.8693</td>\n",
       "      <td>-1.0303</td>\n",
       "      <td>-0.3398</td>\n",
       "      <td>-0.3083</td>\n",
       "      <td>-0.2692</td>\n",
       "      <td>-0.2166</td>\n",
       "      <td>-0.1698</td>\n",
       "      <td>-0.1357</td>\n",
       "      <td>-0.2266</td>\n",
       "      <td>-0.1714</td>\n",
       "      <td>-0.1896</td>\n",
       "      <td>-0.2074</td>\n",
       "      <td>-0.2125</td>\n",
       "      <td>-0.2096</td>\n",
       "      <td>0</td>\n",
       "    </tr>\n",
       "    <tr>\n",
       "      <td>Female</td>\n",
       "      <td>Others</td>\n",
       "      <td>Married</td>\n",
       "      <td>Unknown</td>\n",
       "      <td>Unknown</td>\n",
       "      <td>Unknown</td>\n",
       "      <td>Payed duly</td>\n",
       "      <td>Unknown</td>\n",
       "      <td>Unknown</td>\n",
       "      <td>False</td>\n",
       "      <td>-0.0557</td>\n",
       "      <td>0.7066</td>\n",
       "      <td>-0.7154</td>\n",
       "      <td>-0.6460</td>\n",
       "      <td>-0.6750</td>\n",
       "      <td>-0.6395</td>\n",
       "      <td>-0.6451</td>\n",
       "      <td>-0.6539</td>\n",
       "      <td>-0.0027</td>\n",
       "      <td>-0.2455</td>\n",
       "      <td>-0.1765</td>\n",
       "      <td>-0.2994</td>\n",
       "      <td>-0.3085</td>\n",
       "      <td>-0.2955</td>\n",
       "      <td>0</td>\n",
       "    </tr>\n",
       "    <tr>\n",
       "      <td>Male</td>\n",
       "      <td>University</td>\n",
       "      <td>Single</td>\n",
       "      <td>Unknown</td>\n",
       "      <td>Unknown</td>\n",
       "      <td>Unknown</td>\n",
       "      <td>Unknown</td>\n",
       "      <td>Unknown</td>\n",
       "      <td>Unknown</td>\n",
       "      <td>False</td>\n",
       "      <td>-0.3640</td>\n",
       "      <td>-0.5960</td>\n",
       "      <td>0.3608</td>\n",
       "      <td>0.3062</td>\n",
       "      <td>0.2082</td>\n",
       "      <td>0.1432</td>\n",
       "      <td>0.1513</td>\n",
       "      <td>0.0393</td>\n",
       "      <td>-0.0393</td>\n",
       "      <td>-0.1219</td>\n",
       "      <td>-0.1786</td>\n",
       "      <td>-0.1767</td>\n",
       "      <td>-0.2125</td>\n",
       "      <td>-0.2096</td>\n",
       "      <td>0</td>\n",
       "    </tr>\n",
       "    <tr>\n",
       "      <td>Female</td>\n",
       "      <td>University</td>\n",
       "      <td>Married</td>\n",
       "      <td>Payment delayed 2 months</td>\n",
       "      <td>Payment delayed 2 months</td>\n",
       "      <td>Payment delayed 2 months</td>\n",
       "      <td>Payment delayed 2 months</td>\n",
       "      <td>Payment delayed 2 months</td>\n",
       "      <td>Payment delayed 2 months</td>\n",
       "      <td>False</td>\n",
       "      <td>-0.7494</td>\n",
       "      <td>1.6836</td>\n",
       "      <td>-0.0956</td>\n",
       "      <td>-0.0565</td>\n",
       "      <td>-0.0142</td>\n",
       "      <td>0.0561</td>\n",
       "      <td>0.1213</td>\n",
       "      <td>0.1638</td>\n",
       "      <td>-0.2149</td>\n",
       "      <td>-0.1672</td>\n",
       "      <td>-0.1841</td>\n",
       "      <td>-0.1890</td>\n",
       "      <td>-0.1869</td>\n",
       "      <td>-0.1867</td>\n",
       "      <td>0</td>\n",
       "    </tr>\n",
       "    <tr>\n",
       "      <td>Female</td>\n",
       "      <td>High school</td>\n",
       "      <td>Married</td>\n",
       "      <td>Unknown</td>\n",
       "      <td>Unknown</td>\n",
       "      <td>Unknown</td>\n",
       "      <td>Unknown</td>\n",
       "      <td>Unknown</td>\n",
       "      <td>Unknown</td>\n",
       "      <td>False</td>\n",
       "      <td>-0.0557</td>\n",
       "      <td>0.3809</td>\n",
       "      <td>-0.6109</td>\n",
       "      <td>-0.6562</td>\n",
       "      <td>-0.6750</td>\n",
       "      <td>-0.6714</td>\n",
       "      <td>-0.6622</td>\n",
       "      <td>-0.6539</td>\n",
       "      <td>-0.1915</td>\n",
       "      <td>-0.2455</td>\n",
       "      <td>-0.2882</td>\n",
       "      <td>-0.2994</td>\n",
       "      <td>-0.3085</td>\n",
       "      <td>-0.2955</td>\n",
       "      <td>0</td>\n",
       "    </tr>\n",
       "  </tbody>\n",
       "</table>"
      ],
      "text/plain": [
       "<IPython.core.display.HTML object>"
      ]
     },
     "metadata": {},
     "output_type": "display_data"
    }
   ],
   "source": [
    "#Inspect rows:\n",
    "data.show_batch(rows=5)"
   ]
  },
  {
   "cell_type": "code",
   "execution_count": 10,
   "metadata": {},
   "outputs": [],
   "source": [
    "#Define learner object\n",
    "learn = tabular_learner(data, layers=[1000,500],\n",
    "                        ps=[0.001, 0.01],\n",
    "                        emb_drop=0.04,\n",
    "                        metrics=[Recall(),\n",
    "                                 FBeta(beta=1),\n",
    "                                 FBeta(beta=5)])"
   ]
  },
  {
   "cell_type": "code",
   "execution_count": 11,
   "metadata": {},
   "outputs": [
    {
     "data": {
      "text/plain": [
       "TabularModel(\n",
       "  (embeds): ModuleList(\n",
       "    (0): Embedding(3, 3)\n",
       "    (1): Embedding(5, 4)\n",
       "    (2): Embedding(4, 3)\n",
       "    (3): Embedding(11, 6)\n",
       "    (4): Embedding(11, 6)\n",
       "    (5): Embedding(11, 6)\n",
       "    (6): Embedding(11, 6)\n",
       "    (7): Embedding(10, 6)\n",
       "    (8): Embedding(10, 6)\n",
       "    (9): Embedding(3, 3)\n",
       "  )\n",
       "  (emb_drop): Dropout(p=0.04, inplace=False)\n",
       "  (bn_cont): BatchNorm1d(14, eps=1e-05, momentum=0.1, affine=True, track_running_stats=True)\n",
       "  (layers): Sequential(\n",
       "    (0): Linear(in_features=63, out_features=1000, bias=True)\n",
       "    (1): ReLU(inplace=True)\n",
       "    (2): BatchNorm1d(1000, eps=1e-05, momentum=0.1, affine=True, track_running_stats=True)\n",
       "    (3): Dropout(p=0.001, inplace=False)\n",
       "    (4): Linear(in_features=1000, out_features=500, bias=True)\n",
       "    (5): ReLU(inplace=True)\n",
       "    (6): BatchNorm1d(500, eps=1e-05, momentum=0.1, affine=True, track_running_stats=True)\n",
       "    (7): Dropout(p=0.01, inplace=False)\n",
       "    (8): Linear(in_features=500, out_features=2, bias=True)\n",
       "  )\n",
       ")"
      ]
     },
     "execution_count": 11,
     "metadata": {},
     "output_type": "execute_result"
    }
   ],
   "source": [
    "learn.model"
   ]
  },
  {
   "cell_type": "code",
   "execution_count": null,
   "metadata": {},
   "outputs": [
    {
     "data": {
      "text/html": [
       "\n",
       "    <div>\n",
       "        <style>\n",
       "            /* Turns off some styling */\n",
       "            progress {\n",
       "                /* gets rid of default border in Firefox and Opera. */\n",
       "                border: none;\n",
       "                /* Needs to be in here for Safari polyfill so background images work as expected. */\n",
       "                background-size: auto;\n",
       "            }\n",
       "            .progress-bar-interrupted, .progress-bar-interrupted::-webkit-progress-bar {\n",
       "                background: #F44336;\n",
       "            }\n",
       "        </style>\n",
       "      <progress value='0' class='' max='1' style='width:300px; height:20px; vertical-align: middle;'></progress>\n",
       "      0.00% [0/1 00:00<00:00]\n",
       "    </div>\n",
       "    \n",
       "<table border=\"1\" class=\"dataframe\">\n",
       "  <thead>\n",
       "    <tr style=\"text-align: left;\">\n",
       "      <th>epoch</th>\n",
       "      <th>train_loss</th>\n",
       "      <th>valid_loss</th>\n",
       "      <th>recall</th>\n",
       "      <th>f_beta</th>\n",
       "      <th>f_beta</th>\n",
       "      <th>time</th>\n",
       "    </tr>\n",
       "  </thead>\n",
       "  <tbody>\n",
       "  </tbody>\n",
       "</table><p>\n",
       "\n",
       "    <div>\n",
       "        <style>\n",
       "            /* Turns off some styling */\n",
       "            progress {\n",
       "                /* gets rid of default border in Firefox and Opera. */\n",
       "                border: none;\n",
       "                /* Needs to be in here for Safari polyfill so background images work as expected. */\n",
       "                background-size: auto;\n",
       "            }\n",
       "            .progress-bar-interrupted, .progress-bar-interrupted::-webkit-progress-bar {\n",
       "                background: #F44336;\n",
       "            }\n",
       "        </style>\n",
       "      <progress value='88' class='' max='375' style='width:300px; height:20px; vertical-align: middle;'></progress>\n",
       "      23.47% [88/375 00:05<00:16 1.8757]\n",
       "    </div>\n",
       "    "
      ],
      "text/plain": [
       "<IPython.core.display.HTML object>"
      ]
     },
     "metadata": {},
     "output_type": "display_data"
    }
   ],
   "source": [
    "#Find suggested learning rate:\n",
    "learn.lr_find()\n",
    "learn.recorder.plot(suggestion=True)\n"
   ]
  },
  {
   "cell_type": "code",
   "execution_count": null,
   "metadata": {},
   "outputs": [],
   "source": [
    "#Train neural network\n",
    "learn.fit(epochs=25, lr=1e-06, wd=0.2)"
   ]
  },
  {
   "cell_type": "code",
   "execution_count": null,
   "metadata": {},
   "outputs": [],
   "source": [
    "#Extract predictions for the validation set\n",
    "preds_valid, _ = learn.get_preds(ds_type=DatasetType.Valid)\n",
    "pred_valid = preds_valid.argmax(dim=-1)\n"
   ]
  },
  {
   "cell_type": "code",
   "execution_count": null,
   "metadata": {},
   "outputs": [],
   "source": [
    "#Inspect the performance \n",
    "interp = ClassificationInterpretation.from_learner(learn)\n",
    "interp.plot_confusion_matrix()"
   ]
  },
  {
   "cell_type": "code",
   "execution_count": null,
   "metadata": {},
   "outputs": [],
   "source": [
    "#Inspect performance evaluation metrics \n",
    "performance_evaluation_report(learn)"
   ]
  },
  {
   "cell_type": "code",
   "execution_count": null,
   "metadata": {},
   "outputs": [],
   "source": []
  }
 ],
 "metadata": {
  "kernelspec": {
   "display_name": "Python 3",
   "language": "python",
   "name": "python3"
  },
  "language_info": {
   "codemirror_mode": {
    "name": "ipython",
    "version": 3
   },
   "file_extension": ".py",
   "mimetype": "text/x-python",
   "name": "python",
   "nbconvert_exporter": "python",
   "pygments_lexer": "ipython3",
   "version": "3.7.7"
  }
 },
 "nbformat": 4,
 "nbformat_minor": 4
}
